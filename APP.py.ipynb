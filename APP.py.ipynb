{
 "cells": [
  {
   "cell_type": "code",
   "execution_count": 1,
   "id": "23fd8e21-202d-4631-98d5-2fa833643595",
   "metadata": {},
   "outputs": [
    {
     "name": "stderr",
     "output_type": "stream",
     "text": [
      "2025-04-08 18:11:56.857 \n",
      "  \u001b[33m\u001b[1mWarning:\u001b[0m to view this Streamlit app on a browser, run it with the following\n",
      "  command:\n",
      "\n",
      "    streamlit run C:\\Users\\DELL\\anaconda3\\New folder\\Lib\\site-packages\\ipykernel_launcher.py [ARGUMENTS]\n",
      "C:\\Users\\DELL\\AppData\\Local\\Temp\\ipykernel_29628\\4004651119.py:20: FutureWarning: \n",
      "\n",
      "Passing `palette` without assigning `hue` is deprecated and will be removed in v0.14.0. Assign the `x` variable to `hue` and set `legend=False` for the same effect.\n",
      "\n",
      "  sns.barplot(x='Model', y=metric, data=results, ax=ax, palette=\"pastel\")\n"
     ]
    },
    {
     "data": {
      "text/plain": [
       "DeltaGenerator()"
      ]
     },
     "execution_count": 1,
     "metadata": {},
     "output_type": "execute_result"
    }
   ],
   "source": [
    "import streamlit as st\n",
    "import pandas as pd\n",
    "import seaborn as sns\n",
    "import matplotlib.pyplot as plt\n",
    "\n",
    "st.set_page_config(page_title=\"Model Evaluation Dashboard\", layout=\"centered\")\n",
    "st.title(\"🧠 Model Evaluation Dashboard\")\n",
    "\n",
    "# Load model comparison summary\n",
    "results = pd.read_csv(\"model_comparison_summary.csv\")\n",
    "\n",
    "st.subheader(\"📋 Model Performance Summary\")\n",
    "st.dataframe(results)\n",
    "\n",
    "# Dropdown to select metric\n",
    "metric = st.selectbox(\"📊 Select Metric to Compare\", results.columns[1:])\n",
    "\n",
    "# Barplot\n",
    "fig, ax = plt.subplots(figsize=(8, 5))\n",
    "sns.barplot(x='Model', y=metric, data=results, ax=ax, palette=\"pastel\")\n",
    "ax.set_title(f\"{metric} Comparison Across Models\")\n",
    "st.pyplot(fig)\n"
   ]
  },
  {
   "cell_type": "code",
   "execution_count": null,
   "id": "4e9caf18-bfd9-41e2-875e-189b0696fdca",
   "metadata": {},
   "outputs": [],
   "source": []
  }
 ],
 "metadata": {
  "kernelspec": {
   "display_name": "Python 3 (ipykernel)",
   "language": "python",
   "name": "python3"
  },
  "language_info": {
   "codemirror_mode": {
    "name": "ipython",
    "version": 3
   },
   "file_extension": ".py",
   "mimetype": "text/x-python",
   "name": "python",
   "nbconvert_exporter": "python",
   "pygments_lexer": "ipython3",
   "version": "3.12.4"
  }
 },
 "nbformat": 4,
 "nbformat_minor": 5
}
